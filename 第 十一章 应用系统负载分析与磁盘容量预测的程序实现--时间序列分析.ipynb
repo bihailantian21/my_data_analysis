{
 "cells": [
  {
   "cell_type": "markdown",
   "metadata": {},
   "source": [
    "## 应用系统负载分析与磁盘容量预测\n",
    "下面程序主要是通过对磁盘容量预测，预测磁盘未来的负载情况，\n",
    "避免应用系统因出现存储容量耗尽的情况而导致应用系统负载过高，\n",
    "最终引发系统故障"
   ]
  },
  {
   "cell_type": "markdown",
   "metadata": {},
   "source": [
    "1、数据的抽取\n",
    "抽取 2014-10-01 至 2014-11-16 财务系统中某一台数据库服务器的磁盘的相关数据\n",
    "\n",
    "\n"
   ]
  },
  {
   "cell_type": "markdown",
   "metadata": {},
   "source": [
    "2、数据探索分析\n",
    "本项目采用时序分析法进行建模，需要探索数据的平稳性。\n"
   ]
  },
  {
   "cell_type": "code",
   "execution_count": 52,
   "metadata": {},
   "outputs": [
    {
     "data": {
      "image/png": "[encoded data removed]",
      "text/plain": [
       "<Figure size 432x288 with 1 Axes>"
      ]
     },
     "metadata": {
      "needs_background": "light"
     },
     "output_type": "display_data"
    },
    {
     "data": {
      "text/plain": [
       "Text(0.5,1,'D盘使用情况')"
      ]
     },
     "execution_count": 52,
     "metadata": {},
     "output_type": "execute_result"
    },
    {
     "data": {
      "image/png": "[encoded data removed]",
      "text/plain": [
       "<Figure size 432x288 with 1 Axes>"
      ]
     },
     "metadata": {
      "needs_background": "light"
     },
     "output_type": "display_data"
    }
   ],
   "source": [
    "# 由于本案例是采用时间序列分析法进行建模的，故可以通过时序图来观测序列的平稳性\n",
    "\n",
    "import pandas as pd\n",
    "# 参数初始化\n",
    "discfile = 'D:\\ProgramData\\python_data_analysis_and_mining_action\\chapter11\\data/discdata.xls'\n",
    "\n",
    "data = pd.read_excel(discfile)\n",
    "\n",
    "data_c=data[(data['DESCRIPTION']=='磁盘已使用大小')&(data['ENTITY']=='C:\\\\')]['VALUE']\n",
    "import matplotlib.pyplot as plt\n",
    "plt.rcParams['font.sans-serif']=['SimHei']     #正常显示中文标签\n",
    "plt.plot(data_c,'b-o')\n",
    "plt.title(u'C盘使用情况')\n",
    "plt.show()\n",
    " \n",
    "data_d=data[(data['DESCRIPTION']=='磁盘已使用大小')&(data['ENTITY']=='D:\\\\')][['VALUE','COLLECTTIME']]\n",
    "plt.plot(data_d['VALUE'],'b-o',color='red')\n",
    "plt.title(u'D盘使用情况')\n"
   ]
  },
  {
   "cell_type": "markdown",
   "metadata": {},
   "source": [
    "3、数据的预处理\n",
    "a.数据清洗\n",
    "磁盘的容量在不扩充的情况下是一个固定的值，因此每天收集过来的数据，存在着大量磁盘容量的重复数据，因剔除重复的数据。\n",
    "b.属性的改造\n",
    "磁盘的相关属性信息以记录的形式存在数据中，其中 NAME,TARGET_ID,ENTITY 的这三个属性进行区分，这三个属性的值都是固定不变，\n",
    "因此可以将这三个属性的值合并构造新的属性的值。"
   ]
  },
  {
   "cell_type": "code",
   "execution_count": 11,
   "metadata": {},
   "outputs": [],
   "source": [
    "## 属性变化代码\n",
    "import pandas as pd\n",
    "\n",
    "# 参数初始化\n",
    "discfile = 'D:\\ProgramData\\python_data_analysis_and_mining_action\\chapter11\\data/discdata.xls'\n",
    "transformddata = 'D:\\ProgramData\\python_data_analysis_and_mining_action\\chapter11\\data\\discdata_test1.xls'\n",
    "\n",
    "data = pd.read_excel(discfile)\n",
    "data = data[data['TARGET_ID']==184].copy()  # 只提取184 的数据\n",
    "\n",
    "data_group = data.groupby('COLLECTTIME')  # 以时间分组\n",
    "\n",
    "# 定义一个属性变换函数\n",
    "def attr_trans(x):  \n",
    "    result = pd.Series(index = ['SYS_NAME','CWXT_DB:184:C:\\\\','CWXT_DB:184:D:\\\\','COLLECTTIME'])\n",
    "    result['SYS_NAME'] = x['SYS_NAME'].iloc[0]\n",
    "    result['CWXT_DB:184:C:\\\\'] = x['VALUE'].iloc[0]\n",
    "    result['CWXT_DB:184:D:\\\\'] = x['VALUE'].iloc[1]\n",
    "    result['COLLECTTIME'] = x['COLLECTTIME'].iloc[0]\n",
    "    return result\n",
    "\n",
    "data_processed = data_group.apply(attr_trans) # 逐组处理\n",
    "data_processed.to_excel(transformddata,index = False)"
   ]
  },
  {
   "cell_type": "code",
   "execution_count": 4,
   "metadata": {
    "scrolled": true
   },
   "outputs": [
    {
     "name": "stdout",
     "output_type": "stream",
     "text": [
      "(-2.6460462274942986, 0.08384889634121945, 0, 41, {'1%': -3.60098336718852, '5%': -2.9351348158036012, '10%': -2.6059629803688282}, 958.701132117506)\n",
      "0.08384889634121945\n",
      "原始序列经过1阶差分后归于平稳，p值为4.79259126339371e-07\n"
     ]
    }
   ],
   "source": [
    "## 数据的平稳性检验代码\n",
    "import pandas as pd \n",
    "\n",
    "#参数的初始化\n",
    "discfile = 'D:\\ProgramData\\python_data_analysis_and_mining_action\\chapter11\\data\\discdata_test1.xls'\n",
    "\n",
    "data  = pd.read_excel(discfile)\n",
    "data = data.iloc[:len(data)-5]  # 不适用最后5行\n",
    "\n",
    "# 平稳性检测 ADF检验，即单位根检验\n",
    "from statsmodels.tsa.stattools import adfuller as ADF\n",
    "diff = 0\n",
    "adf = ADF(data['CWXT_DB:184:D:\\\\'])\n",
    "print(adf)\n",
    "while adf[1]>=0.05: # adf[1] 为p 值，p值小于0.05认为是平稳的。\n",
    "    diff = diff+1\n",
    "    adf = ADF(data['CWXT_DB:184:D:\\\\'].diff(diff).dropna())  # 进行差分，删除缺失值  \n",
    "    \n",
    "print(u'原始序列经过%s阶差分后归于平稳，p值为%s'%(diff,adf[1]))\n"
   ]
  },
  {
   "cell_type": "code",
   "execution_count": 9,
   "metadata": {},
   "outputs": [
    {
     "name": "stdout",
     "output_type": "stream",
     "text": [
      "[[19.519364265098798], [9.95850372977218e-06]]\n",
      "原始序列为非白噪声序列，对应的p值：9.95850372977218e-06\n",
      "[[2.4933208194001515], [0.1143302597764247]]\n",
      "原始序列为白噪声序列，对应的p值：0.1143302597764247\n"
     ]
    }
   ],
   "source": [
    "## 数据进行白噪声检验  为了检验序列中有用的信息是否已提取完毕，需要对数据进行白噪声检验\n",
    "\n",
    "import pandas as pd\n",
    "\n",
    "#参数的初始化\n",
    "discfile = 'D:\\ProgramData\\python_data_analysis_and_mining_action\\chapter11\\data\\discdata_test1.xls'\n",
    "\n",
    "data  = pd.read_excel(discfile)\n",
    "data = data.iloc[:len(data)-5]  # 不使用最后5行\n",
    "\n",
    "# 白噪声检测\n",
    "from statsmodels.stats.diagnostic import acorr_ljungbox\n",
    "\n",
    "[[lb],[p]] = acorr_ljungbox(data['CWXT_DB:184:D:\\\\'],lags = 1)\n",
    "print([[lb],[p]])\n",
    "if p < 0.05:\n",
    "    print(u'原始序列为非白噪声序列，对应的p值：%s'%p)\n",
    "else:\n",
    "    print(u'原始序列为白噪声序列，对应的p值：%s'%p)\n",
    "    \n",
    "[[lb],[p]] = acorr_ljungbox(data['CWXT_DB:184:D:\\\\'].diff().dropna(),lags = 1)\n",
    "print([[lb],[p]])\n",
    "if p < 0.05:\n",
    "    print(u'原始序列为非白噪声序列，对应的p值：%s'%p)\n",
    "else:\n",
    "    print(u'原始序列为白噪声序列，对应的p值：%s'%p)\n"
   ]
  },
  {
   "cell_type": "code",
   "execution_count": 24,
   "metadata": {
    "scrolled": true
   },
   "outputs": [
    {
     "name": "stdout",
     "output_type": "stream",
     "text": [
      "COLLECTTIME\n",
      "2014-10-01    80262592.65\n",
      "2014-10-02    83200151.65\n",
      "2014-10-03    83208320.00\n",
      "2014-10-04    83099271.65\n",
      "2014-10-05    82765171.65\n",
      "2014-10-06    82522895.00\n",
      "2014-10-07    82590885.00\n",
      "2014-10-08    82368173.30\n",
      "2014-10-09    82172263.30\n",
      "2014-10-10    81922685.00\n",
      "2014-10-11    84844722.95\n",
      "2014-10-12    84769868.90\n",
      "2014-10-13    84558703.40\n",
      "2014-10-14    84207166.80\n",
      "2014-10-15    84042911.90\n",
      "2014-10-16    84129516.15\n",
      "2014-10-17    83877754.85\n",
      "2014-10-18    83887520.40\n",
      "2014-10-19    83538509.75\n",
      "2014-10-20    86483653.00\n",
      "2014-10-21    82496743.30\n",
      "2014-10-22    82300356.65\n",
      "2014-10-23    82130251.65\n",
      "2014-10-24    84844587.65\n",
      "2014-10-25    84845444.65\n",
      "2014-10-26    84684911.05\n",
      "2014-10-27    84500606.35\n",
      "2014-10-28    84145461.25\n",
      "2014-10-29    84172525.10\n",
      "2014-10-30    83957818.70\n",
      "2014-10-31    83684789.75\n",
      "2014-11-01    86485366.95\n",
      "2014-11-02    86454023.45\n",
      "2014-11-03    86127041.70\n",
      "2014-11-04    86161390.40\n",
      "2014-11-05    85938933.90\n",
      "2014-11-06    85645056.50\n",
      "2014-11-07    85272926.05\n",
      "2014-11-08    88110097.75\n",
      "2014-11-09    88128626.65\n",
      "2014-11-10    88075997.75\n",
      "2014-11-11    87753526.65\n",
      "Name: CWXT_DB:184:D:\\, dtype: float64\n"
     ]
    },
    {
     "name": "stderr",
     "output_type": "stream",
     "text": [
      "D:\\ProgramData\\Anaconda3\\lib\\site-packages\\statsmodels\\tsa\\base\\tsa_model.py:171: ValueWarning: No frequency information was provided, so inferred frequency D will be used.\n",
      "  % freq, ValueWarning)\n",
      "D:\\ProgramData\\Anaconda3\\lib\\site-packages\\scipy\\signal\\signaltools.py:1341: FutureWarning: Using a non-tuple sequence for multidimensional indexing is deprecated; use `arr[tuple(seq)]` instead of `arr[seq]`. In the future this will be interpreted as an array index, `arr[np.array(seq)]`, which will result either in an error or a different result.\n",
      "  out_full[ind] += zi\n",
      "D:\\ProgramData\\Anaconda3\\lib\\site-packages\\scipy\\signal\\signaltools.py:1344: FutureWarning: Using a non-tuple sequence for multidimensional indexing is deprecated; use `arr[tuple(seq)]` instead of `arr[seq]`. In the future this will be interpreted as an array index, `arr[np.array(seq)]`, which will result either in an error or a different result.\n",
      "  out = out_full[ind]\n",
      "D:\\ProgramData\\Anaconda3\\lib\\site-packages\\scipy\\signal\\signaltools.py:1350: FutureWarning: Using a non-tuple sequence for multidimensional indexing is deprecated; use `arr[tuple(seq)]` instead of `arr[seq]`. In the future this will be interpreted as an array index, `arr[np.array(seq)]`, which will result either in an error or a different result.\n",
      "  zf = out_full[ind]\n",
      "D:\\ProgramData\\Anaconda3\\lib\\site-packages\\statsmodels\\base\\model.py:488: HessianInversionWarning: Inverting hessian failed, no bse or cov_params available\n",
      "  'available', HessianInversionWarning)\n"
     ]
    },
    {
     "name": "stdout",
     "output_type": "stream",
     "text": [
      "0  0    1275.69\n",
      "   1    1273.19\n",
      "   2    1274.33\n",
      "   3    1274.46\n",
      "1  0    1276.75\n",
      "   1    1271.89\n",
      "2  0    1279.69\n",
      "   1    1275.51\n",
      "   3    1279.14\n",
      "3  0    1278.07\n",
      "   1    1278.99\n",
      "   2    1282.78\n",
      "   3    1285.94\n",
      "4  0    1281.22\n",
      "   1     1282.7\n",
      "   2     1286.3\n",
      "   3     1290.2\n",
      "dtype: object\n",
      "BIC最小的p值和q值为：1、1\n"
     ]
    }
   ],
   "source": [
    "## 模式识别\n",
    "# 采用极大似然值比方法进行模型的参数估计，估计各个参数的值。然后针对各个不同的模型，\n",
    "# 采用 BIC信息准则对模型进行定阶，确定p，q 参数，从而选择最优模型。\n",
    "\n",
    "# 确定最佳的 p,d,q 值\n",
    "import pandas as pd \n",
    "\n",
    "# 参数的初始化\n",
    "discfile = 'D:\\ProgramData\\python_data_analysis_and_mining_action\\chapter11\\data\\discdata_test1.xls'\n",
    "\n",
    "data  = pd.read_excel(discfile,index_col= 'COLLECTTIME')\n",
    "data = data.iloc[:len(data)-5]  # 不使用最后5行\n",
    "xdata = data['CWXT_DB:184:D:\\\\']\n",
    "\n",
    "from statsmodels.tsa.arima_model import ARIMA\n",
    " # 定阶\n",
    "pmax = int(len(xdata) / 10)\n",
    "qmax = int(len(xdata) / 10)\n",
    "# 定义bic矩阵\n",
    "bic_matrix = []\n",
    "for p in range(pmax + 1):\n",
    "    tmp = []\n",
    "    for q in range(qmax + 1):\n",
    "        try:\n",
    "            tmp.append(ARIMA(xdata, (p, 1, q)).fit().bic)\n",
    "        except:\n",
    "            tmp.append(None)\n",
    "    bic_matrix.append(tmp)\n",
    "bic_matrix = pd.DataFrame(bic_matrix)\n",
    "# print(bic_matrix.stack())\n",
    "# 找出最小值\n",
    "p, q = bic_matrix.stack().astype('float64').idxmin()\n",
    "print(u\"BIC最小的p值和q值为：%s、%s\" % (p, q))"
   ]
  },
  {
   "cell_type": "code",
   "execution_count": 27,
   "metadata": {
    "scrolled": true
   },
   "outputs": [
    {
     "name": "stderr",
     "output_type": "stream",
     "text": [
      "D:\\ProgramData\\Anaconda3\\lib\\site-packages\\statsmodels\\tsa\\base\\tsa_model.py:171: ValueWarning: No frequency information was provided, so inferred frequency D will be used.\n",
      "  % freq, ValueWarning)\n"
     ]
    },
    {
     "name": "stdout",
     "output_type": "stream",
     "text": [
      "模型ARIMA(1,1,1)符合白噪声检验\n"
     ]
    }
   ],
   "source": [
    "## 模型的检验\n",
    "##模型确定以后，检验其残差序列是否为白噪声\n",
    "# 确定模型后，需要检验其残差序列是否是白噪声，若不是，\n",
    "# 说明，残差中还存在有用的信息，需要修改模型或者进一步提取。若其残差不是白噪声，重新更换p,q的值，重新确定\n",
    "import pandas as pd \n",
    "\n",
    "# 参数的初始化\n",
    "discfile = 'D:\\ProgramData\\python_data_analysis_and_mining_action\\chapter11\\data\\discdata_test1.xls'\n",
    "\n",
    "data  = pd.read_excel(discfile,index_col= 'COLLECTTIME')\n",
    "data = data.iloc[:len(data)-5]  # 不使用最后5行\n",
    "xdata = data['CWXT_DB:184:D:\\\\']\n",
    "\n",
    "lagnum = 12 #残差延迟个数\n",
    "\n",
    "from statsmodels.tsa.arima_model import ARIMA\n",
    "\n",
    "arima = ARIMA(xdata,(p,1,q)).fit() # 建立训练模型\n",
    "xdata_pred = arima.predict(typ = 'levels') # 预测\n",
    "perd_error = (xdata_pred - xdata).dropna() # 计算残差\n",
    "\n",
    "from statsmodels.stats.diagnostic import acorr_ljungbox   # 白噪声检测\n",
    "\n",
    "lb,p_l = acorr_ljungbox(perd_error,lags = lagnum)\n",
    "h = (p_l < 0.05).sum() #p值小于0.05，认为是非白噪声。\n",
    "if h > 0:\n",
    "    print (u'模型ARIMA(%s,1,%s)不符合白噪声检验'%(p,q))\n",
    "else:\n",
    "    print (u'模型ARIMA(%s,1,%s)符合白噪声检验' %(p,q))\n"
   ]
  },
  {
   "cell_type": "code",
   "execution_count": 44,
   "metadata": {
    "scrolled": true
   },
   "outputs": [
    {
     "name": "stdout",
     "output_type": "stream",
     "text": [
      "[87371577.14273813 87288785.3646306  87328125.8433352  87417327.27063102\n",
      " 87526884.61584161]\n"
     ]
    }
   ],
   "source": [
    "## 模型的预测\n",
    "## 通过对模型的预测，获取5天的预测值，并且与实际值作比较，也就是我忽略的5条数据\n",
    "\n",
    "import pandas as pd \n",
    "\n",
    "# 参数的初始化\n",
    "discfile = 'D:\\ProgramData\\python_data_analysis_and_mining_action\\chapter11\\data\\discdata_test1.xls'\n",
    "\n",
    "data  = pd.read_excel(discfile,index_col= 'COLLECTTIME')\n",
    "\n",
    "test_predict = arima.forecast(5)[0]\n",
    "print(test_predict)\n",
    "\n",
    "# 预测对比\n",
    "test_data=pd.DataFrame(columns=[u'实际容量',u'预测容量'])\n",
    "test_data[u'实际容量']=data[(len(data)-5):]['CWXT_DB:184:D:\\\\']\n",
    "test_data[u'预测容量']=test_predict\n",
    "test_data = test_data.applymap(lambda x: '%.2f' % x)\n",
    "\n",
    "test_data.to_excel('D:\\ProgramData\\python_data_analysis_and_mining_action\\chapter11\\data\\predict_data.xlsx')\n",
    "\n"
   ]
  },
  {
   "cell_type": "code",
   "execution_count": 49,
   "metadata": {
    "scrolled": false
   },
   "outputs": [
    {
     "name": "stdout",
     "output_type": "stream",
     "text": [
      "                  实际容量       预测容量\n",
      "COLLECTTIME                      \n",
      "2014-11-12   87.249336  87.371577\n",
      "2014-11-13   86.986142  87.288785\n",
      "2014-11-14   86.678240  87.328126\n",
      "2014-11-15   89.766600  87.417327\n",
      "2014-11-16   89.377527  87.526885\n",
      "COLLECTTIME\n",
      "2014-11-12    0.122242\n",
      "2014-11-13    0.302643\n",
      "2014-11-14    0.649886\n",
      "2014-11-15    2.349273\n",
      "2014-11-16    1.850643\n",
      "dtype: float64\n",
      "1.0549371899999982\n",
      "1.376433652418303\n",
      "0.011850951763401518\n",
      "误差阈值为1.5\n",
      "平均绝对误差为：1.0549, \n",
      "均方根误差为：1.3764, \n",
      "平均绝对百分误差为：0.0119\n",
      "误差检验通过！\n"
     ]
    }
   ],
   "source": [
    "## 模型的评价\n",
    "# 评价一个模型的好坏 从三个统一计量指标：平均绝对误差，均方根误差和平方绝对百分误差。\n",
    "import pandas as pd\n",
    "\n",
    "file = 'D:\\ProgramData\\python_data_analysis_and_mining_action\\chapter11\\data\\predict_data.xlsx'\n",
    "result = pd.read_excel(file,index_col='COLLECTTIME')\n",
    "result = result.applymap(lambda x: x/10**6)\n",
    "print(result)\n",
    "\n",
    "# 计算误差\n",
    "abs_ = (result[u'预测容量']- result[u'实际容量']).abs()\n",
    "mae_ = abs_.mean() # mae平均绝对误差\n",
    "rmas_ = ((abs_**2).mean())**0.5 #rmas均方根误差\n",
    "mape_ = (abs_/result[u'实际容量']).mean() #mape平均绝对百分误差\n",
    "\n",
    "\n",
    "print(abs_)  \n",
    "print(mae_) \n",
    "print(rmas_ ) \n",
    "print(mape_)\n",
    "errors = 1.5  \n",
    "print ('误差阈值为%s' % errors ) \n",
    "if (mae_ < errors) & (rmas_ < errors) & (mape_ < errors):  \n",
    "    print (u'平均绝对误差为：%.4f, \\n均方根误差为：%.4f, \\n平均绝对百分误差为：%.4f' % (mae_, rmas_, mape_))  \n",
    "    print ('误差检验通过！')\n",
    "else:  \n",
    "    print ('误差检验不通过！') \n",
    "    \n",
    "    \n",
    "    \n",
    "# 根据输出结果 该模型的产生的误差在范围之内可以采用该模型进行预测"
   ]
  }
 ],
 "metadata": {
  "kernelspec": {
   "display_name": "Python 3",
   "language": "python",
   "name": "python3"
  },
  "language_info": {
   "codemirror_mode": {
    "name": "ipython",
    "version": 3
   },
   "file_extension": ".py",
   "mimetype": "text/x-python",
   "name": "python",
   "nbconvert_exporter": "python",
   "pygments_lexer": "ipython3",
   "version": "3.7.0"
  }
 },
 "nbformat": 4,
 "nbformat_minor": 2
}
